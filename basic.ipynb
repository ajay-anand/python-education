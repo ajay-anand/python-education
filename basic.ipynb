{
 "cells": [
  {
   "cell_type": "markdown",
   "metadata": {},
   "source": [
    "<h1>Python Basics in 15 Minutes<sup>*</sup></h1><br/>\n",
    "<b>*</b> Prior knowledge of C is required.\n",
    "<br/><br/>\n",
    "The code in the text boxes below is executable. To execute the code in a box, click inside the box and press <em>Shift+Enter</em>."
   ]
  },
  {
   "cell_type": "markdown",
   "metadata": {},
   "source": [
    "<b>Printing</b><br/>\n",
    "Python uses print() function to display values. Click inside the box below and press Shift+Enter."
   ]
  },
  {
   "cell_type": "code",
   "execution_count": null,
   "metadata": {},
   "outputs": [],
   "source": [
    "print('Hello world!')"
   ]
  },
  {
   "cell_type": "markdown",
   "metadata": {},
   "source": [
    "Now click inside the box below and press Shift+Enter."
   ]
  },
  {
   "cell_type": "code",
   "execution_count": null,
   "metadata": {},
   "outputs": [],
   "source": [
    "print(42)"
   ]
  },
  {
   "cell_type": "markdown",
   "metadata": {},
   "source": [
    "<b>Variables</b><br/>\n",
    "Variables are used to store values which can be accessed later by using the variable name.\n"
   ]
  },
  {
   "cell_type": "code",
   "execution_count": null,
   "metadata": {},
   "outputs": [],
   "source": [
    "a = 10\n",
    "print(2*a)"
   ]
  },
  {
   "cell_type": "markdown",
   "metadata": {},
   "source": [
    "Variable type, <em>string</em>, <em>integer</em> or <em>floating point</em> is inferred automatically by its value."
   ]
  },
  {
   "cell_type": "code",
   "execution_count": null,
   "metadata": {},
   "outputs": [],
   "source": [
    "b = 'Apple'\n",
    "c = 3.14\n",
    "print(b)\n",
    "print(c)"
   ]
  },
  {
   "cell_type": "markdown",
   "metadata": {},
   "source": [
    "<b>Comparison</b><br/>\n",
    "Practise the following inequality statements. Note that <em>True</em> and <em>False</em> are built in values that can be assigned to boolean variables."
   ]
  },
  {
   "cell_type": "code",
   "execution_count": null,
   "metadata": {},
   "outputs": [],
   "source": [
    "print(3<4)"
   ]
  },
  {
   "cell_type": "code",
   "execution_count": null,
   "metadata": {},
   "outputs": [],
   "source": [
    "print(3>4)"
   ]
  },
  {
   "cell_type": "code",
   "execution_count": null,
   "metadata": {},
   "outputs": [],
   "source": [
    "print( not(3>4 and 3<4))"
   ]
  },
  {
   "cell_type": "markdown",
   "metadata": {},
   "source": [
    "<b>Loops</b><br/>\n",
    "<em>for</em> is a keyword used to execute statements in loops.<br/>\n",
    "range() function is used to facilitate loops by defining starting and ending criteria.<br>\n",
    "Notice that colon (:) has been used and the <em>print</em> statement is indented. <br>\n",
    "<b><em>Python uses colon (:) and indentation to define bodies of loops, conditionals and functions</em></b>.<br>\n",
    "Execute the following for loop and observe that it prints values from 0 (inclusive) to 10 (exclusive)."
   ]
  },
  {
   "cell_type": "code",
   "execution_count": null,
   "metadata": {},
   "outputs": [],
   "source": [
    "for i in range(0, 10):\n",
    "  print(i)\n"
   ]
  },
  {
   "cell_type": "markdown",
   "metadata": {},
   "source": [
    "Optionally range() function can be provided a <em>step size</em> to do some interesting things."
   ]
  },
  {
   "cell_type": "code",
   "execution_count": null,
   "metadata": {},
   "outputs": [],
   "source": [
    "print('Counting in steps of 2')\n",
    "for i in range(0, 10, 2):\n",
    "  print(i)\n",
    "\n",
    "print('You cannot count from 0 to 10 in steps of -2')\n",
    "for i in range(0, 10, -2):\n",
    "  print(i)\n",
    "\n",
    "print('But you can count from 10 (inclusive) to 0 (exclusive) in steps of -2')\n",
    "for i in range(10, 0, -2):\n",
    "  print(i)\n"
   ]
  },
  {
   "cell_type": "markdown",
   "metadata": {},
   "source": [
    "<b>Array</b><br/>\n",
    "Sequence of values can be stored in an <em>array</em>. Array is not a low level data type. It is a high level data structure. Use square brackets [] to define an array and call append() function to add elements to the array.\n"
   ]
  },
  {
   "cell_type": "code",
   "execution_count": null,
   "metadata": {},
   "outputs": [],
   "source": [
    "arr = []\n",
    "\n",
    "for i in range(0,10):\n",
    "  arr.append(i)\n",
    "\n",
    "print(arr)"
   ]
  },
  {
   "cell_type": "markdown",
   "metadata": {},
   "source": [
    "You can modify the value of an element in the array and you can iterate over the array using <em>for</em> loop."
   ]
  },
  {
   "cell_type": "code",
   "execution_count": null,
   "metadata": {},
   "outputs": [],
   "source": [
    "arr[5]=50\n",
    "print('Observe the value at position 5')\n",
    "print(arr)\n",
    "\n",
    "print(\"Printing the array with signs changed from positive to negative.\")\n",
    "for el in arr:\n",
    "  print(-el)\n"
   ]
  },
  {
   "cell_type": "markdown",
   "metadata": {},
   "source": [
    "<b>Function</b><br/>\n",
    "Functions are defined using <em>def</em> keyword. Note again the use of colon (:) and the use of indentation to distinguish the function body."
   ]
  },
  {
   "cell_type": "code",
   "execution_count": null,
   "metadata": {},
   "outputs": [],
   "source": [
    "def square(x):\n",
    "  return x*x\n",
    "\n",
    "print( square(9) )\n"
   ]
  },
  {
   "cell_type": "markdown",
   "metadata": {},
   "source": [
    "<b>Conditionals</b><br/>\n",
    "Let's illustrate the familiar <em>if</em>, <em>else</em> and <em>else if</em> constructs through a function that prints if a number is positive, negative or zero. Again, note that indentation of if, elif and else in the function body and also not that the corresponding print statements in the bodies of if, elif and else are <b>further indented</b>."
   ]
  },
  {
   "cell_type": "code",
   "execution_count": null,
   "metadata": {},
   "outputs": [],
   "source": [
    "def sign(x):\n",
    "  if x>0:\n",
    "    print('positive')\n",
    "  elif x<0:\n",
    "    print('negative')\n",
    "  else:\n",
    "    print('zero')\n",
    "    \n",
    "sign(-4)\n",
    "sign(0)\n",
    "sign(11)\n",
    "\n"
   ]
  },
  {
   "cell_type": "markdown",
   "metadata": {},
   "source": [
    "<b>Tuple and Dictionary</b></em>\n",
    "Apart from <em>array</em>, Python also has useful built-in data structures called <em>tuple</em> and <em>dictionary</em>.<br>\n"
   ]
  },
  {
   "cell_type": "markdown",
   "metadata": {},
   "source": [
    "<b>Tuple</b> is an immutable version of array. The values once defined cannot be changed. Tuple is defined using parentheses () instead of square brackets.\n"
   ]
  },
  {
   "cell_type": "code",
   "execution_count": null,
   "metadata": {},
   "outputs": [],
   "source": [
    "\n",
    "point = (3,7,9)\n",
    "\n",
    "print('We can print the value at position 1 but we can not change it.')\n",
    "print(point[1])\n",
    "print('The following line will produce an error.')\n",
    "point[1] = 11 \n"
   ]
  },
  {
   "cell_type": "markdown",
   "metadata": {},
   "source": [
    "<b>Dictionary</b> is also like array but it stores pairs of data called keys and values. The values can be accessed using the keys as demonstrated below. Dictionary uses curly brackets {} and separates key-value pairs by colon (:)."
   ]
  },
  {
   "cell_type": "code",
   "execution_count": null,
   "metadata": {},
   "outputs": [],
   "source": [
    "std_code = {674: 'Bhubaneswar', 671: 'Cuttack'}\n",
    "\n",
    "print(std_code[671])\n",
    "\n",
    "capital = { 'WB': 'Kolkata', 'Bihar': 'Patna', 'AP': 'Hyderabad'}\n",
    "\n",
    "print(capital['AP'])"
   ]
  },
  {
   "cell_type": "markdown",
   "metadata": {},
   "source": [
    "<b>Random Numbers</b><br/>\n",
    "There are several ways to generate random numbers. A quick way to generate random integers is to use <em>randint()</em> function from <em>random</em> library. A library is imported using <em>import</em> keyword as in the example given below."
   ]
  },
  {
   "cell_type": "code",
   "execution_count": null,
   "metadata": {},
   "outputs": [],
   "source": [
    "import random\n",
    "print(\"Printing few random numbers between 1 and 20 (inclusive):\")\n",
    "for i in range(0,5):\n",
    "    n = random.randint(1,20)\n",
    "    print(n)"
   ]
  },
  {
   "cell_type": "markdown",
   "metadata": {},
   "source": [
    "<b>We hope you enjoyed this tutorial</b>. Now you are all set for the next phase of learning graphics and game development."
   ]
  },
  {
   "cell_type": "code",
   "execution_count": null,
   "metadata": {},
   "outputs": [],
   "source": []
  }
 ],
 "metadata": {
  "kernelspec": {
   "display_name": "Python 3",
   "language": "python",
   "name": "python3"
  },
  "language_info": {
   "codemirror_mode": {
    "name": "ipython",
    "version": 3
   },
   "file_extension": ".py",
   "mimetype": "text/x-python",
   "name": "python",
   "nbconvert_exporter": "python",
   "pygments_lexer": "ipython3",
   "version": "3.6.6"
  }
 },
 "nbformat": 4,
 "nbformat_minor": 2
}
